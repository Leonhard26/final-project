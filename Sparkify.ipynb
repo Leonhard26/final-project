{
 "cells": [
  {
   "cell_type": "markdown",
   "metadata": {},
   "source": [
    "# Sparkify Project Workspace\n",
    "This workspace contains a tiny subset (128MB) of the full dataset available (12GB). Feel free to use this workspace to build your project, or to explore a smaller subset with Spark before deploying your cluster on the cloud. Instructions for setting up your Spark cluster is included in the last lesson of the Extracurricular Spark Course content.\n",
    "\n",
    "You can follow the steps below to guide your data analysis and model building portion of this project."
   ]
  },
  {
   "cell_type": "code",
   "execution_count": 159,
   "metadata": {},
   "outputs": [],
   "source": [
    "# import libraries\n",
    "import pandas as pd\n",
    "import numpy as np\n",
    "import matplotlib.pyplot as plt\n",
    "import datetime\n",
    "from datetime import datetime\n",
    "\n",
    "from pyspark.sql import SparkSession\n",
    "from pyspark.sql.functions import col, lit, udf, isnan, count, when, desc, sort_array, asc, avg, lag, floor\n",
    "from pyspark.sql.functions import concat, lit, avg, split, isnan, when, count, col, sum, mean, stddev, min, max, round\n",
    "from pyspark.sql.types import IntegerType, DateType\n",
    "from pyspark.sql.window import Window\n",
    "from pyspark.sql.functions import sum as Fsum\n",
    "from pyspark.ml.feature import VectorAssembler\n",
    "from pyspark.ml.feature import MinMaxScaler, StandardScaler\n",
    "from pyspark.sql.types import DoubleType\n",
    "from pyspark.ml.tuning import CrossValidator, ParamGridBuilder\n",
    "from pyspark.ml import Pipeline \n",
    "from pyspark.ml.classification import LogisticRegression, RandomForestClassifier, LinearSVC, GBTClassifier\n",
    "from pyspark.ml.evaluation import BinaryClassificationEvaluator, MulticlassClassificationEvaluator\n",
    "from pyspark.mllib.evaluation import MulticlassMetrics\n",
    "from pyspark.sql import functions as sF"
   ]
  },
  {
   "cell_type": "code",
   "execution_count": 4,
   "metadata": {},
   "outputs": [],
   "source": [
    "# create a Spark session\n",
    "spark = SparkSession.builder \\\n",
    "    .master(\"local\") \\\n",
    "    .appName(\"Identify Features\") \\\n",
    "    .getOrCreate()"
   ]
  },
  {
   "cell_type": "markdown",
   "metadata": {},
   "source": [
    "# Load and Clean Dataset\n",
    "In this workspace, the mini-dataset file is `mini_sparkify_event_data.json`. Load and clean the dataset, checking for invalid or missing data - for example, records without userids or sessionids. "
   ]
  },
  {
   "cell_type": "code",
   "execution_count": 12,
   "metadata": {},
   "outputs": [],
   "source": [
    "# load data\n",
    "df = spark.read.json('mini_sparkify_event_data.json')"
   ]
  },
  {
   "cell_type": "code",
   "execution_count": 18,
   "metadata": {},
   "outputs": [
    {
     "data": {
      "text/plain": [
       "Row(artist='Martha Tilston', auth='Logged In', firstName='Colin', gender='M', itemInSession=50, lastName='Freeman', length=277.89016, level='paid', location='Bakersfield, CA', method='PUT', page='NextSong', registration=1538173362000, sessionId=29, song='Rockpools', status=200, ts=1538352117000, userAgent='Mozilla/5.0 (Windows NT 6.1; WOW64; rv:31.0) Gecko/20100101 Firefox/31.0', userId='30')"
      ]
     },
     "execution_count": 18,
     "metadata": {},
     "output_type": "execute_result"
    }
   ],
   "source": [
    "# explore first entry\n",
    "df.head()"
   ]
  },
  {
   "cell_type": "code",
   "execution_count": 19,
   "metadata": {},
   "outputs": [
    {
     "data": {
      "text/plain": [
       "286500"
      ]
     },
     "execution_count": 19,
     "metadata": {},
     "output_type": "execute_result"
    }
   ],
   "source": [
    "# determine how many observations are in the dataset\n",
    "df.count()"
   ]
  },
  {
   "cell_type": "code",
   "execution_count": 20,
   "metadata": {},
   "outputs": [],
   "source": [
    "# drop NA\n",
    "df = df.dropna(how = \"any\", subset = [\"userId\", \"sessionId\"])\n",
    "df = df.filter(df.userId!=\"\")"
   ]
  },
  {
   "cell_type": "code",
   "execution_count": 22,
   "metadata": {},
   "outputs": [
    {
     "name": "stdout",
     "output_type": "stream",
     "text": [
      "+------+\n",
      "|userId|\n",
      "+------+\n",
      "|    10|\n",
      "|   100|\n",
      "|100001|\n",
      "|100002|\n",
      "|100003|\n",
      "+------+\n",
      "only showing top 5 rows\n",
      "\n"
     ]
    }
   ],
   "source": [
    "# temporarily drop duplicates to see unique User IDs\n",
    "df.select('userId').dropDuplicates().sort('userId').show(5)"
   ]
  },
  {
   "cell_type": "code",
   "execution_count": 23,
   "metadata": {},
   "outputs": [
    {
     "name": "stdout",
     "output_type": "stream",
     "text": [
      "+---------+\n",
      "|sessionId|\n",
      "+---------+\n",
      "|        1|\n",
      "|        2|\n",
      "|        3|\n",
      "|        4|\n",
      "|        5|\n",
      "+---------+\n",
      "only showing top 5 rows\n",
      "\n"
     ]
    }
   ],
   "source": [
    "# temporarily drop duplicates to see unique SessionIDs\n",
    "df.select('sessionId').dropDuplicates().sort('sessionId').show(5)"
   ]
  },
  {
   "cell_type": "code",
   "execution_count": 24,
   "metadata": {},
   "outputs": [
    {
     "data": {
      "text/plain": [
       "278154"
      ]
     },
     "execution_count": 24,
     "metadata": {},
     "output_type": "execute_result"
    }
   ],
   "source": [
    "# check how many observations remain in dataset after missing values dropped\n",
    "df.count()"
   ]
  },
  {
   "cell_type": "markdown",
   "metadata": {},
   "source": [
    "# Exploratory Data Analysis\n",
    "When you're working with the full dataset, perform EDA by loading a small subset of the data and doing basic manipulations within Spark. In this workspace, you are already provided a small subset of data you can explore.\n",
    "\n",
    "### Define Churn\n",
    "\n",
    "Once you've done some preliminary analysis, create a column `Churn` to use as the label for your model. I suggest using the `Cancellation Confirmation` events to define your churn, which happen for both paid and free users. As a bonus task, you can also look into the `Downgrade` events.\n",
    "\n",
    "### Explore Data\n",
    "Once you've defined churn, perform some exploratory data analysis to observe the behavior for users who stayed vs users who churned. You can start by exploring aggregates on these two groups of users, observing how much of a specific action they experienced per a certain time unit or number of songs played."
   ]
  },
  {
   "cell_type": "code",
   "execution_count": 25,
   "metadata": {},
   "outputs": [
    {
     "name": "stdout",
     "output_type": "stream",
     "text": [
      "root\n",
      " |-- artist: string (nullable = true)\n",
      " |-- auth: string (nullable = true)\n",
      " |-- firstName: string (nullable = true)\n",
      " |-- gender: string (nullable = true)\n",
      " |-- itemInSession: long (nullable = true)\n",
      " |-- lastName: string (nullable = true)\n",
      " |-- length: double (nullable = true)\n",
      " |-- level: string (nullable = true)\n",
      " |-- location: string (nullable = true)\n",
      " |-- method: string (nullable = true)\n",
      " |-- page: string (nullable = true)\n",
      " |-- registration: long (nullable = true)\n",
      " |-- sessionId: long (nullable = true)\n",
      " |-- song: string (nullable = true)\n",
      " |-- status: long (nullable = true)\n",
      " |-- ts: long (nullable = true)\n",
      " |-- userAgent: string (nullable = true)\n",
      " |-- userId: string (nullable = true)\n",
      "\n"
     ]
    }
   ],
   "source": [
    "# examine scheme of data\n",
    "df.printSchema()"
   ]
  },
  {
   "cell_type": "code",
   "execution_count": 26,
   "metadata": {},
   "outputs": [
    {
     "data": {
      "text/plain": [
       "[Row(artist='Martha Tilston', auth='Logged In', firstName='Colin', gender='M', itemInSession=50, lastName='Freeman', length=277.89016, level='paid', location='Bakersfield, CA', method='PUT', page='NextSong', registration=1538173362000, sessionId=29, song='Rockpools', status=200, ts=1538352117000, userAgent='Mozilla/5.0 (Windows NT 6.1; WOW64; rv:31.0) Gecko/20100101 Firefox/31.0', userId='30'),\n",
       " Row(artist='Five Iron Frenzy', auth='Logged In', firstName='Micah', gender='M', itemInSession=79, lastName='Long', length=236.09424, level='free', location='Boston-Cambridge-Newton, MA-NH', method='PUT', page='NextSong', registration=1538331630000, sessionId=8, song='Canada', status=200, ts=1538352180000, userAgent='\"Mozilla/5.0 (Windows NT 6.1; WOW64) AppleWebKit/537.36 (KHTML, like Gecko) Chrome/37.0.2062.103 Safari/537.36\"', userId='9'),\n",
       " Row(artist='Adam Lambert', auth='Logged In', firstName='Colin', gender='M', itemInSession=51, lastName='Freeman', length=282.8273, level='paid', location='Bakersfield, CA', method='PUT', page='NextSong', registration=1538173362000, sessionId=29, song='Time For Miracles', status=200, ts=1538352394000, userAgent='Mozilla/5.0 (Windows NT 6.1; WOW64; rv:31.0) Gecko/20100101 Firefox/31.0', userId='30')]"
      ]
     },
     "execution_count": 26,
     "metadata": {},
     "output_type": "execute_result"
    }
   ],
   "source": [
    "# check first three entries of data\n",
    "df.take(3)"
   ]
  },
  {
   "cell_type": "code",
   "execution_count": 28,
   "metadata": {},
   "outputs": [
    {
     "name": "stdout",
     "output_type": "stream",
     "text": [
      "225\n",
      "2312\n"
     ]
    }
   ],
   "source": [
    "# check how many unique userID's and sessionID' are in the dataset?\n",
    "print(df.select(\"userId\").dropDuplicates().count())\n",
    "print(df.select(\"sessionId\").dropDuplicates().count())"
   ]
  },
  {
   "cell_type": "code",
   "execution_count": 32,
   "metadata": {},
   "outputs": [
    {
     "name": "stdout",
     "output_type": "stream",
     "text": [
      "+--------------------+\n",
      "|                page|\n",
      "+--------------------+\n",
      "|              Cancel|\n",
      "|    Submit Downgrade|\n",
      "|         Thumbs Down|\n",
      "|                Home|\n",
      "|           Downgrade|\n",
      "|         Roll Advert|\n",
      "|              Logout|\n",
      "|       Save Settings|\n",
      "|Cancellation Conf...|\n",
      "|               About|\n",
      "|            Settings|\n",
      "|     Add to Playlist|\n",
      "|          Add Friend|\n",
      "|            NextSong|\n",
      "|           Thumbs Up|\n",
      "|                Help|\n",
      "|             Upgrade|\n",
      "|               Error|\n",
      "|      Submit Upgrade|\n",
      "+--------------------+\n",
      "\n"
     ]
    }
   ],
   "source": [
    "# check which actions have been recorded\n",
    "df.select(\"page\").dropDuplicates().show()"
   ]
  },
  {
   "cell_type": "code",
   "execution_count": 35,
   "metadata": {},
   "outputs": [
    {
     "name": "stdout",
     "output_type": "stream",
     "text": [
      "+------+\n",
      "|userId|\n",
      "+------+\n",
      "|   125|\n",
      "|    51|\n",
      "|    54|\n",
      "|100014|\n",
      "|   101|\n",
      "+------+\n",
      "only showing top 5 rows\n",
      "\n"
     ]
    }
   ],
   "source": [
    "# see five userID's that churney\n",
    "df.filter(df.page==\"Cancellation Confirmation\").select(\"userId\").dropDuplicates().show(5)"
   ]
  },
  {
   "cell_type": "code",
   "execution_count": 36,
   "metadata": {},
   "outputs": [],
   "source": [
    "# include new column in data set indicating whether user churned or not\n",
    "users_churn = df.filter(df.page==\"Cancellation Confirmation\").select(\"userId\").dropDuplicates()\n",
    "churn_list = [(row['userId']) for row in users_churn.collect()]\n",
    "df_withchurn = df.withColumn(\"churn\", df.userId.isin(churn_list))"
   ]
  },
  {
   "cell_type": "code",
   "execution_count": 46,
   "metadata": {},
   "outputs": [
    {
     "name": "stdout",
     "output_type": "stream",
     "text": [
      "+------+-----+\n",
      "|userId|churn|\n",
      "+------+-----+\n",
      "|    19|false|\n",
      "|100005| true|\n",
      "|200007|false|\n",
      "|300007| true|\n",
      "|    50|false|\n",
      "+------+-----+\n",
      "only showing top 5 rows\n",
      "\n"
     ]
    }
   ],
   "source": [
    "# see match between ID and whether user churned or not\n",
    "df_withchurn.select(['userId', 'churn']).dropDuplicates().show(5)"
   ]
  },
  {
   "cell_type": "code",
   "execution_count": 49,
   "metadata": {},
   "outputs": [
    {
     "name": "stdout",
     "output_type": "stream",
     "text": [
      "+------+---------+----------+-----+\n",
      "|userId|firstName|      page|churn|\n",
      "+------+---------+----------+-----+\n",
      "|100005|    Cason|      Home| true|\n",
      "|100005|    Cason|  NextSong| true|\n",
      "|100005|    Cason| Thumbs Up| true|\n",
      "|100005|    Cason|  NextSong| true|\n",
      "|100005|    Cason|  NextSong| true|\n",
      "|100005|    Cason|  NextSong| true|\n",
      "|100005|    Cason|  NextSong| true|\n",
      "|100005|    Cason|  NextSong| true|\n",
      "|100005|    Cason|   Upgrade| true|\n",
      "|100005|    Cason|Add Friend| true|\n",
      "|100005|    Cason|  NextSong| true|\n",
      "|100005|    Cason|  NextSong| true|\n",
      "|100005|    Cason|  NextSong| true|\n",
      "|100005|    Cason|  NextSong| true|\n",
      "|100005|    Cason|  NextSong| true|\n",
      "|100005|    Cason|  NextSong| true|\n",
      "|100005|    Cason|  NextSong| true|\n",
      "|100005|    Cason|  NextSong| true|\n",
      "|100005|    Cason|   Upgrade| true|\n",
      "|100005|    Cason|      Home| true|\n",
      "+------+---------+----------+-----+\n",
      "only showing top 20 rows\n",
      "\n"
     ]
    }
   ],
   "source": [
    "# observe activities of user 100005 \n",
    "df_withchurn.select(['userId', 'firstName', 'page', 'churn']).where(df.userId == 100005).show(20)"
   ]
  },
  {
   "cell_type": "code",
   "execution_count": 42,
   "metadata": {},
   "outputs": [
    {
     "name": "stdout",
     "output_type": "stream",
     "text": [
      "+-----+-----+\n",
      "|churn|count|\n",
      "+-----+-----+\n",
      "| true|   52|\n",
      "|false|  173|\n",
      "+-----+-----+\n",
      "\n"
     ]
    }
   ],
   "source": [
    "# observe how many user in the data set churned or not\n",
    "df_withchurn.dropDuplicates(['userId']).groupby(['churn']).count().show()"
   ]
  },
  {
   "cell_type": "code",
   "execution_count": 39,
   "metadata": {},
   "outputs": [
    {
     "name": "stdout",
     "output_type": "stream",
     "text": [
      "+-----+------+-----+\n",
      "|churn|gender|count|\n",
      "+-----+------+-----+\n",
      "|false|     M|   89|\n",
      "|false|     F|   84|\n",
      "| true|     F|   20|\n",
      "| true|     M|   32|\n",
      "+-----+------+-----+\n",
      "\n"
     ]
    }
   ],
   "source": [
    "# see whether the gender has an impact on churn likelihood\n",
    "df_withchurn.dropDuplicates([\"userId\", \"gender\"]).groupby([\"churn\", \"gender\"]).count().sort(\"churn\").show()"
   ]
  },
  {
   "cell_type": "code",
   "execution_count": 40,
   "metadata": {},
   "outputs": [
    {
     "name": "stdout",
     "output_type": "stream",
     "text": [
      "churn rate of female is  0.19230769230769232\n",
      "churn rate of male is  0.2644628099173554\n"
     ]
    }
   ],
   "source": [
    "# a small difference in churn raters between male and female users\n",
    "churn_rate_f = 20/(20+84) \n",
    "churn_rate_m = 32/(32+89)\n",
    "print(\"churn rate of female is \",churn_rate_f)\n",
    "print(\"churn rate of male is \",churn_rate_m)"
   ]
  },
  {
   "cell_type": "code",
   "execution_count": 43,
   "metadata": {},
   "outputs": [
    {
     "name": "stdout",
     "output_type": "stream",
     "text": [
      "+-----+-----+-----+\n",
      "|churn|level|count|\n",
      "+-----+-----+-----+\n",
      "|false| free|  149|\n",
      "|false| paid|  129|\n",
      "| true| paid|   36|\n",
      "| true| free|   46|\n",
      "+-----+-----+-----+\n",
      "\n"
     ]
    }
   ],
   "source": [
    "# see whether the level (free, paid) has an impact on churn likelihood\n",
    "df_withchurn.dropDuplicates(['userId', 'level']).groupby(['churn', 'level']).count().show()"
   ]
  },
  {
   "cell_type": "code",
   "execution_count": 58,
   "metadata": {},
   "outputs": [
    {
     "name": "stdout",
     "output_type": "stream",
     "text": [
      "churn rate of free is  0.2358974358974359\n",
      "churn rate of paid is  0.21818181818181817\n"
     ]
    }
   ],
   "source": [
    "# tend to be just a very small difference between free and paying users\n",
    "churn_rate_free = 46/(46+149) \n",
    "churn_rate_paid = 36/(36+129)\n",
    "print(\"churn rate of free is \",churn_rate_free)\n",
    "print(\"churn rate of paid is \",churn_rate_paid)"
   ]
  },
  {
   "cell_type": "code",
   "execution_count": 76,
   "metadata": {},
   "outputs": [
    {
     "name": "stdout",
     "output_type": "stream",
     "text": [
      "+--------------------+------------------+\n",
      "|                page|avg(itemInSession)|\n",
      "+--------------------+------------------+\n",
      "|               About|116.53571428571429|\n",
      "|          Add Friend| 96.78616352201257|\n",
      "|     Add to Playlist|117.18015414258188|\n",
      "|              Cancel|  87.1923076923077|\n",
      "|Cancellation Conf...|  88.1923076923077|\n",
      "|           Downgrade|132.53709198813056|\n",
      "|               Error|          94.09375|\n",
      "|                Help|  98.6234309623431|\n",
      "|                Home| 92.65430622009569|\n",
      "|              Logout|104.60397830018083|\n",
      "|            NextSong|111.85882288289278|\n",
      "|         Roll Advert| 55.62668045501551|\n",
      "|       Save Settings|  77.3103448275862|\n",
      "|            Settings| 94.04814814814814|\n",
      "|    Submit Downgrade|100.33333333333333|\n",
      "|      Submit Upgrade|           35.6875|\n",
      "|         Thumbs Down|  99.2399193548387|\n",
      "|           Thumbs Up|111.39483593329747|\n",
      "|             Upgrade|            42.625|\n",
      "+--------------------+------------------+\n",
      "\n"
     ]
    }
   ],
   "source": [
    "# average item in session for all pages and users that churned\n",
    "df_withchurn.where(df_withchurn.churn == 1).groupby(['page']).mean(\"itemInSession\").sort(\"page\").show(40)"
   ]
  },
  {
   "cell_type": "code",
   "execution_count": 92,
   "metadata": {
    "scrolled": false
   },
   "outputs": [
    {
     "name": "stdout",
     "output_type": "stream",
     "text": [
      "+----------------+------------------+\n",
      "|            page|avg(itemInSession)|\n",
      "+----------------+------------------+\n",
      "|           About| 129.1617312072893|\n",
      "|      Add Friend|117.19417742378468|\n",
      "| Add to Playlist|121.53972303206997|\n",
      "|       Downgrade|126.84633294528521|\n",
      "|           Error|111.37272727272727|\n",
      "|            Help|118.95637860082304|\n",
      "|            Home| 98.26741973840666|\n",
      "|          Logout|108.69921436588103|\n",
      "|        NextSong|117.60440030462043|\n",
      "|     Roll Advert|55.113283884018884|\n",
      "|   Save Settings| 96.67460317460318|\n",
      "|        Settings| 114.0088424437299|\n",
      "|Submit Downgrade|118.27777777777777|\n",
      "|  Submit Upgrade| 55.06299212598425|\n",
      "|     Thumbs Down|112.96243902439025|\n",
      "|       Thumbs Up|118.03301533857089|\n",
      "|         Upgrade| 55.96124031007752|\n",
      "+----------------+------------------+\n",
      "\n"
     ]
    }
   ],
   "source": [
    "# average item in session for all pages and users that did not churn\n",
    "df_withchurn.where(df_withchurn.churn == 0).groupby(['page']).mean(\"itemInSession\").sort(\"page\").show(40)"
   ]
  },
  {
   "cell_type": "code",
   "execution_count": 86,
   "metadata": {},
   "outputs": [
    {
     "name": "stdout",
     "output_type": "stream",
     "text": [
      "+--------------------+-----+\n",
      "|                page|count|\n",
      "+--------------------+-----+\n",
      "|               About|   56|\n",
      "|          Add Friend|  636|\n",
      "|     Add to Playlist| 1038|\n",
      "|              Cancel|   52|\n",
      "|Cancellation Conf...|   52|\n",
      "|           Downgrade|  337|\n",
      "|               Error|   32|\n",
      "|                Help|  239|\n",
      "|                Home| 1672|\n",
      "|              Logout|  553|\n",
      "|            NextSong|36394|\n",
      "|         Roll Advert|  967|\n",
      "|       Save Settings|   58|\n",
      "|            Settings|  270|\n",
      "|    Submit Downgrade|    9|\n",
      "|      Submit Upgrade|   32|\n",
      "|         Thumbs Down|  496|\n",
      "|           Thumbs Up| 1859|\n",
      "|             Upgrade|  112|\n",
      "+--------------------+-----+\n",
      "\n"
     ]
    }
   ],
   "source": [
    "# count of interactions for all pages and users that did churn\n",
    "df_withchurn.where(df_withchurn.churn == 1).groupby(['page']).count().sort(\"page\").show(40)"
   ]
  },
  {
   "cell_type": "code",
   "execution_count": 84,
   "metadata": {},
   "outputs": [
    {
     "name": "stdout",
     "output_type": "stream",
     "text": [
      "+----------------+------+\n",
      "|            page| count|\n",
      "+----------------+------+\n",
      "|           About|   439|\n",
      "|      Add Friend|  3641|\n",
      "| Add to Playlist|  5488|\n",
      "|       Downgrade|  1718|\n",
      "|           Error|   220|\n",
      "|            Help|  1215|\n",
      "|            Home|  8410|\n",
      "|          Logout|  2673|\n",
      "|        NextSong|191714|\n",
      "|     Roll Advert|  2966|\n",
      "|   Save Settings|   252|\n",
      "|        Settings|  1244|\n",
      "|Submit Downgrade|    54|\n",
      "|  Submit Upgrade|   127|\n",
      "|     Thumbs Down|  2050|\n",
      "|       Thumbs Up| 10692|\n",
      "|         Upgrade|   387|\n",
      "+----------------+------+\n",
      "\n"
     ]
    }
   ],
   "source": [
    "# count of interactions for all pages and users that did not churn\n",
    "df_withchurn.where(df_withchurn.churn == 0).groupby(['page']).count().sort(\"page\").show(40)"
   ]
  },
  {
   "cell_type": "markdown",
   "metadata": {},
   "source": [
    "# Feature Engineering\n",
    "Once you've familiarized yourself with the data, build out the features you find promising to train your model on. To work with the full dataset, you can follow the following steps.\n",
    "- Write a script to extract the necessary features from the smaller subset of data\n",
    "- Ensure that your script is scalable, using the best practices discussed in Lesson 3\n",
    "- Try your script on the full data set, debugging your script if necessary\n",
    "\n",
    "If you are working in the classroom workspace, you can just extract features based on the small subset of data contained here. Be sure to transfer over this work to the larger dataset when you work on your Spark cluster."
   ]
  },
  {
   "cell_type": "code",
   "execution_count": 136,
   "metadata": {},
   "outputs": [
    {
     "name": "stdout",
     "output_type": "stream",
     "text": [
      "+------+------+\n",
      "|userId|gender|\n",
      "+------+------+\n",
      "|    10|     0|\n",
      "|   100|     0|\n",
      "|100001|     1|\n",
      "|100002|     1|\n",
      "|100003|     1|\n",
      "+------+------+\n",
      "only showing top 5 rows\n",
      "\n"
     ]
    }
   ],
   "source": [
    "# create feature gender\n",
    "gender = df_withchurn.dropDuplicates(['userId']).sort('userId').select(['userId','gender'])\n",
    "gender = gender.replace(['F','M'], ['1', '0'], 'gender')\n",
    "gender = gender.withColumn('gender', gender.gender.cast(\"int\"))\n",
    "gender.show(5)"
   ]
  },
  {
   "cell_type": "code",
   "execution_count": 133,
   "metadata": {},
   "outputs": [
    {
     "name": "stdout",
     "output_type": "stream",
     "text": [
      "+------+-----+\n",
      "|userId|level|\n",
      "+------+-----+\n",
      "|    10|    1|\n",
      "|   100|    1|\n",
      "|100001|    0|\n",
      "|100002|    1|\n",
      "|100003|    0|\n",
      "+------+-----+\n",
      "only showing top 5 rows\n",
      "\n"
     ]
    }
   ],
   "source": [
    "# create feature level\n",
    "level = df_withchurn.dropDuplicates(['userId']).sort('userId').select(['userId','level'])\n",
    "level = level.replace(['paid','free'], ['1', '0'], 'level')\n",
    "level= level.withColumn('level', level.level.cast(\"int\"))\n",
    "level.show(5)"
   ]
  },
  {
   "cell_type": "code",
   "execution_count": 103,
   "metadata": {},
   "outputs": [
    {
     "name": "stdout",
     "output_type": "stream",
     "text": [
      "+------+------------------+------------------+\n",
      "|userId|        mean_hours|       stdev_hours|\n",
      "+------+------------------+------------------+\n",
      "|100010|2.6563848154761907|1.5940891633984364|\n",
      "|200002|       4.352262775| 3.481087253628621|\n",
      "|   125|0.5803091944444445|               0.0|\n",
      "|    51|14.535440077777778|11.600663366034107|\n",
      "|   124|10.042778698313494| 9.370878101268762|\n",
      "+------+------------------+------------------+\n",
      "only showing top 5 rows\n",
      "\n"
     ]
    }
   ],
   "source": [
    "# create feature listening duration\n",
    "length_song = df_withchurn.filter(df_withchurn.page=='NextSong').select('userId', 'sessionId', 'length')\n",
    "length_song = length_song.withColumn('hours', (length_song.length / 3600))\n",
    "length_song = length_song.groupBy('userId', 'sessionId').sum('hours')\n",
    "length_song = length_song.groupBy('userId').agg(sF.avg('sum(hours)').alias('mean_hours'), sF.stddev('sum(hours)').alias('stdev_hours')).na.fill(0)\n",
    "length_song.show(5)"
   ]
  },
  {
   "cell_type": "code",
   "execution_count": 104,
   "metadata": {},
   "outputs": [
    {
     "name": "stdout",
     "output_type": "stream",
     "text": [
      "+------+------------------+------------------+\n",
      "|userId|        mean_songs|       stdev_songs|\n",
      "+------+------------------+------------------+\n",
      "|100010|39.285714285714285| 22.96166577663945|\n",
      "|200002|              64.5|51.309843110264914|\n",
      "|   125|               8.0|               0.0|\n",
      "|    51|             211.1| 168.1483802413148|\n",
      "|   124|145.67857142857142|137.40587446912284|\n",
      "+------+------------------+------------------+\n",
      "only showing top 5 rows\n",
      "\n"
     ]
    }
   ],
   "source": [
    "# create feature number of songs\n",
    "number_songs = df_withchurn.filter(df_withchurn.page == 'NextSong').groupBy('userId', 'sessionId').count()\n",
    "number_songs = number_songs.groupBy('userId').agg(sF.avg('count').alias('mean_songs'), sF.stddev('count').alias('stdev_songs'))\n",
    "number_songs = number_songs.na.fill(0)\n",
    "number_songs.show(5)"
   ]
  },
  {
   "cell_type": "code",
   "execution_count": 112,
   "metadata": {},
   "outputs": [
    {
     "name": "stdout",
     "output_type": "stream",
     "text": [
      "+------+---------+\n",
      "|userId|ThumbsUps|\n",
      "+------+---------+\n",
      "|    10|       37|\n",
      "|   100|      148|\n",
      "|100001|        8|\n",
      "|100002|        5|\n",
      "|100003|        3|\n",
      "+------+---------+\n",
      "only showing top 5 rows\n",
      "\n"
     ]
    }
   ],
   "source": [
    "# create feature thumbsup\n",
    "thumbsup = df_withchurn.where(df_withchurn.page=='Thumbs Up').groupby(['userId']).agg(count(col('page')).alias('ThumbsUps')).orderBy('userId').select(['userId','ThumbsUps'])\n",
    "thumbsup.show(5)"
   ]
  },
  {
   "cell_type": "code",
   "execution_count": 119,
   "metadata": {},
   "outputs": [
    {
     "name": "stdout",
     "output_type": "stream",
     "text": [
      "+------+-----------+\n",
      "|userId|ThumbsDowns|\n",
      "+------+-----------+\n",
      "|    10|          4|\n",
      "|   100|         27|\n",
      "|100001|          2|\n",
      "|100004|         11|\n",
      "|100005|          3|\n",
      "+------+-----------+\n",
      "only showing top 5 rows\n",
      "\n"
     ]
    }
   ],
   "source": [
    "# create feature thumbsdown\n",
    "thumbsdown = df_withchurn.where(df_withchurn.page=='Thumbs Down').groupby(['userId']).agg(count(col('page')).alias('ThumbsDowns')).orderBy('userId').select(['userId','ThumbsDowns'])\n",
    "thumbsdown.show(5)"
   ]
  },
  {
   "cell_type": "code",
   "execution_count": 108,
   "metadata": {},
   "outputs": [
    {
     "name": "stdout",
     "output_type": "stream",
     "text": [
      "+------+---------------+\n",
      "|userID|add_to_playlist|\n",
      "+------+---------------+\n",
      "|100010|              7|\n",
      "|200002|              8|\n",
      "|    51|             52|\n",
      "|   124|            118|\n",
      "|     7|              5|\n",
      "+------+---------------+\n",
      "only showing top 5 rows\n",
      "\n"
     ]
    }
   ],
   "source": [
    "# create feature songs added to playlist\n",
    "playlist = df_withchurn.select('userID','page').where(df_withchurn.page == 'Add to Playlist').groupBy('userID').count().withColumnRenamed('count', 'add_to_playlist')\n",
    "playlist.show(5)"
   ]
  },
  {
   "cell_type": "code",
   "execution_count": 109,
   "metadata": {},
   "outputs": [
    {
     "name": "stdout",
     "output_type": "stream",
     "text": [
      "+------+----------+\n",
      "|userID|add_friend|\n",
      "+------+----------+\n",
      "|100010|         4|\n",
      "|200002|         4|\n",
      "|    51|        28|\n",
      "|   124|        74|\n",
      "|     7|         1|\n",
      "+------+----------+\n",
      "only showing top 5 rows\n",
      "\n"
     ]
    }
   ],
   "source": [
    "# create feature friends added\n",
    "friends = df_withchurn.select('userID','page').where(df_withchurn.page == 'Add Friend').groupBy('userID').count().withColumnRenamed('count', 'add_friend')\n",
    "friends.show(5)"
   ]
  },
  {
   "cell_type": "code",
   "execution_count": 124,
   "metadata": {},
   "outputs": [],
   "source": [
    "# create binary label churn \n",
    "user_churn = df_withchurn.select(\"userId\", \"churn\").dropDuplicates()\n",
    "user_churn = user_churn.select(\"userId\", user_churn.churn.cast(\"int\"))"
   ]
  },
  {
   "cell_type": "code",
   "execution_count": 137,
   "metadata": {},
   "outputs": [],
   "source": [
    "# join all created features to one dataset\n",
    "df_modeling = df_withchurn.dropDuplicates(['userId']).sort('userId').select(['userId'])\n",
    "for feature in [gender, level,length_song,number_songs,thumbsup,thumbsdown,playlist,friends,user_churn]:\n",
    "    df_modeling = df_modeling.join(feature,'userId')"
   ]
  },
  {
   "cell_type": "code",
   "execution_count": 138,
   "metadata": {},
   "outputs": [
    {
     "data": {
      "text/plain": [
       "Row(userId='100010', gender=1, level=0, mean_hours=2.6563848154761907, stdev_hours=1.5940891633984364, mean_songs=39.285714285714285, stdev_songs=22.96166577663945, ThumbsUps=17, ThumbsDowns=5, add_to_playlist=7, add_friend=4, churn=0)"
      ]
     },
     "execution_count": 138,
     "metadata": {},
     "output_type": "execute_result"
    }
   ],
   "source": [
    "# check one observation\n",
    "df_modeling.head()"
   ]
  },
  {
   "cell_type": "code",
   "execution_count": null,
   "metadata": {},
   "outputs": [],
   "source": [
    "# data ready for modeling\n",
    "save_path = \"modeling_data.csv\"\n",
    "df_modeling.write.save(save_path, format=\"csv\", header=True)"
   ]
  },
  {
   "cell_type": "code",
   "execution_count": 139,
   "metadata": {},
   "outputs": [
    {
     "data": {
      "text/plain": [
       "[('userId', 'string'),\n",
       " ('gender', 'int'),\n",
       " ('level', 'int'),\n",
       " ('mean_hours', 'double'),\n",
       " ('stdev_hours', 'double'),\n",
       " ('mean_songs', 'double'),\n",
       " ('stdev_songs', 'double'),\n",
       " ('ThumbsUps', 'bigint'),\n",
       " ('ThumbsDowns', 'bigint'),\n",
       " ('add_to_playlist', 'bigint'),\n",
       " ('add_friend', 'bigint'),\n",
       " ('churn', 'int')]"
      ]
     },
     "execution_count": 139,
     "metadata": {},
     "output_type": "execute_result"
    }
   ],
   "source": [
    "# check column types\n",
    "df_modeling.dtypes"
   ]
  },
  {
   "cell_type": "code",
   "execution_count": 151,
   "metadata": {},
   "outputs": [],
   "source": [
    "# use assembler for scaling preparation\n",
    "assembler = VectorAssembler(inputCols=df_modeling.columns[1:-1], outputCol=\"NumFeatures\")\n",
    "features = assembler.transform(df_modeling)"
   ]
  },
  {
   "cell_type": "code",
   "execution_count": 152,
   "metadata": {},
   "outputs": [],
   "source": [
    "# scale dater using StandardScaler\n",
    "scaler = StandardScaler(inputCol=\"NumFeatures\", outputCol=\"ScaledNumFeatures\", withStd=True)\n",
    "scalerModel = scaler.fit(features)\n",
    "features = scalerModel.transform(features)\n",
    "features = features.select(data.churn.alias(\"label\"), features.ScaledNumFeatures.alias(\"features\"))"
   ]
  },
  {
   "cell_type": "markdown",
   "metadata": {},
   "source": [
    "# Modeling\n",
    "Split the full dataset into train, test, and validation sets. Test out several of the machine learning methods you learned. Evaluate the accuracy of the various models, tuning parameters as necessary. Determine your winning model based on test accuracy and report results on the validation set. Since the churned users are a fairly small subset, I suggest using F1 score as the metric to optimize."
   ]
  },
  {
   "cell_type": "code",
   "execution_count": 199,
   "metadata": {},
   "outputs": [],
   "source": [
    "train, validation = features.randomSplit([0.6, 0.4], seed=1)\n",
    "#validation, test = val_test.randomSplit([0.5, 0.5], seed=1)"
   ]
  },
  {
   "cell_type": "code",
   "execution_count": 200,
   "metadata": {},
   "outputs": [],
   "source": [
    "# initialize log regression as classifier\n",
    "lr = LogisticRegression(maxIter=10)\n",
    "\n",
    "# set evaluator\n",
    "f1_evaluator = MulticlassClassificationEvaluator(metricName='f1')\n",
    "\n",
    "# build paramGrid\n",
    "paramGrid = ParamGridBuilder().build()\n",
    "\n",
    "# set up cross validation logistic regression\n",
    "crossval_lr = CrossValidator(estimator=lr,evaluator=f1_evaluator, estimatorParamMaps=paramGrid,numFolds=3)"
   ]
  },
  {
   "cell_type": "code",
   "execution_count": 201,
   "metadata": {},
   "outputs": [],
   "source": [
    "# train lr model\n",
    "cvModel_lr = crossval_lr.fit(train)"
   ]
  },
  {
   "cell_type": "code",
   "execution_count": 202,
   "metadata": {},
   "outputs": [],
   "source": [
    "# predict with lr model\n",
    "results_lr = cvModel_lr.transform(validation)"
   ]
  },
  {
   "cell_type": "code",
   "execution_count": 203,
   "metadata": {},
   "outputs": [
    {
     "data": {
      "text/plain": [
       "DataFrame[label: int, features: vector, rawPrediction: vector, probability: vector, prediction: double]"
      ]
     },
     "execution_count": 203,
     "metadata": {},
     "output_type": "execute_result"
    }
   ],
   "source": [
    "# ceck results_lr data\n",
    "results_lr"
   ]
  },
  {
   "cell_type": "code",
   "execution_count": 204,
   "metadata": {},
   "outputs": [
    {
     "name": "stdout",
     "output_type": "stream",
     "text": [
      "Logistic Regression Metrics:\n",
      "Accuracy: 0.7857142857142857\n",
      "F-1 Score:0.6914285714285714\n"
     ]
    }
   ],
   "source": [
    "# print evaluation for lr performance\n",
    "evaluator = MulticlassClassificationEvaluator(predictionCol=\"prediction\")\n",
    "print('Logistic Regression Metrics:')\n",
    "print('Accuracy: {}'.format(evaluator.evaluate(results_lr, {evaluator.metricName: \"accuracy\"})))\n",
    "print('F-1 Score:{}'.format(evaluator.evaluate(results_lr, {evaluator.metricName: \"f1\"})))"
   ]
  },
  {
   "cell_type": "code",
   "execution_count": 205,
   "metadata": {},
   "outputs": [],
   "source": [
    "# initialize random forest as classifier\n",
    "rf = RandomForestClassifier()\n",
    "\n",
    "# set evaluator\n",
    "f1_evaluator = MulticlassClassificationEvaluator(metricName='f1')\n",
    "\n",
    "# build paramGrid\n",
    "paramGrid = ParamGridBuilder() \\\n",
    "    .build()\n",
    "\n",
    "# set up cross validation random forest\n",
    "crossval_rf = CrossValidator(estimator=rf,estimatorParamMaps=paramGrid,evaluator=f1_evaluator,numFolds=3)"
   ]
  },
  {
   "cell_type": "code",
   "execution_count": 206,
   "metadata": {},
   "outputs": [],
   "source": [
    "# train rf model\n",
    "cvModel_rf = crossval_rf.fit(train)"
   ]
  },
  {
   "cell_type": "code",
   "execution_count": 207,
   "metadata": {},
   "outputs": [],
   "source": [
    "# predict using rf model\n",
    "results_rf = cvModel_rf.transform(validation)"
   ]
  },
  {
   "cell_type": "code",
   "execution_count": 208,
   "metadata": {},
   "outputs": [
    {
     "name": "stdout",
     "output_type": "stream",
     "text": [
      "Random Forest Metrics:\n",
      "Accuracy: 0.7428571428571429\n",
      "F-1 Score:0.6892857142857144\n"
     ]
    }
   ],
   "source": [
    "# print evaluation for rf performance\n",
    "evaluator = MulticlassClassificationEvaluator(predictionCol=\"prediction\")\n",
    "print('Random Forest Metrics:')\n",
    "print('Accuracy: {}'.format(evaluator.evaluate(results_rf, {evaluator.metricName: \"accuracy\"})))\n",
    "print('F-1 Score:{}'.format(evaluator.evaluate(results_rf, {evaluator.metricName: \"f1\"})))"
   ]
  },
  {
   "cell_type": "code",
   "execution_count": 209,
   "metadata": {},
   "outputs": [],
   "source": [
    "# initialize support vector machine as classifier\n",
    "svm = LinearSVC(maxIter=10)\n",
    "\n",
    "# set evaluator\n",
    "f1_evaluator = MulticlassClassificationEvaluator(metricName='f1')\n",
    "\n",
    "# build paramGrid\n",
    "paramGrid = ParamGridBuilder() \\\n",
    "    .build()\n",
    "\n",
    "# set up cross validation for SVM\n",
    "crossval_svm = CrossValidator(estimator=svm,estimatorParamMaps=paramGrid,evaluator=f1_evaluator,numFolds=3)"
   ]
  },
  {
   "cell_type": "code",
   "execution_count": 211,
   "metadata": {},
   "outputs": [],
   "source": [
    "# train svm model\n",
    "cvModel_svm = crossval_svm.fit(train)"
   ]
  },
  {
   "cell_type": "code",
   "execution_count": 212,
   "metadata": {},
   "outputs": [],
   "source": [
    "# predict using svm model\n",
    "results_svm = cvModel_svm.transform(validation)"
   ]
  },
  {
   "cell_type": "code",
   "execution_count": 213,
   "metadata": {},
   "outputs": [
    {
     "name": "stdout",
     "output_type": "stream",
     "text": [
      "SVM Metrics:\n",
      "Accuracy: 0.7857142857142857\n",
      "F-1 Score:0.6914285714285714\n"
     ]
    }
   ],
   "source": [
    "# print evaluation for svm performance\n",
    "evaluator = MulticlassClassificationEvaluator(predictionCol=\"prediction\")\n",
    "print('SVM Metrics:')\n",
    "print('Accuracy: {}'.format(evaluator.evaluate(results_svm, {evaluator.metricName: \"accuracy\"})))\n",
    "print('F-1 Score:{}'.format(evaluator.evaluate(results_svm, {evaluator.metricName: \"f1\"})))"
   ]
  },
  {
   "cell_type": "markdown",
   "metadata": {},
   "source": [
    "# Final Steps\n",
    "Clean up your code, adding comments and renaming variables to make the code easier to read and maintain. Refer to the Spark Project Overview page and Data Scientist Capstone Project Rubric to make sure you are including all components of the capstone project and meet all expectations. Remember, this includes thorough documentation in a README file in a Github repository, as well as a web app or blog post."
   ]
  },
  {
   "cell_type": "code",
   "execution_count": null,
   "metadata": {},
   "outputs": [],
   "source": []
  }
 ],
 "metadata": {
  "kernelspec": {
   "display_name": "Python 3",
   "language": "python",
   "name": "python3"
  },
  "language_info": {
   "codemirror_mode": {
    "name": "ipython",
    "version": 3
   },
   "file_extension": ".py",
   "mimetype": "text/x-python",
   "name": "python",
   "nbconvert_exporter": "python",
   "pygments_lexer": "ipython3",
   "version": "3.6.3"
  }
 },
 "nbformat": 4,
 "nbformat_minor": 2
}
